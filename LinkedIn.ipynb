{
 "cells": [
  {
   "cell_type": "markdown",
   "id": "a9588a3f-4787-44a8-a239-b5915a9d9f38",
   "metadata": {},
   "source": [
    "## Getting the code of acess"
   ]
  },
  {
   "cell_type": "code",
   "execution_count": 12,
   "id": "265d64e9-8aec-434c-a0cd-47cd4ae6ad8b",
   "metadata": {},
   "outputs": [
    {
     "name": "stdout",
     "output_type": "stream",
     "text": [
      "Open this URL → https://www.linkedin.com/oauth/v2/authorization?response_type=code&client_id=7802i9o56cekpv&redirect_uri=http%3A%2F%2Flocalhost%3A8080%2Fcallback&scope=r_organization_social\n"
     ]
    }
   ],
   "source": [
    "import urllib.parse\n",
    "\n",
    "CLIENT_ID = \"7802i9o56cekpv\"               # from Auth tab\n",
    "REDIRECT  = \"http://localhost:8080/callback\"\n",
    "SCOPE     = \"r_organization_social\"\n",
    "\n",
    "params = urllib.parse.urlencode(\n",
    "    {\"response_type\": \"code\",\n",
    "     \"client_id\": CLIENT_ID,\n",
    "     \"redirect_uri\": REDIRECT,\n",
    "     \"scope\": SCOPE})\n",
    "\n",
    "print(\"Open this URL →\", \"https://www.linkedin.com/oauth/v2/authorization?\" + params)\n"
   ]
  },
  {
   "cell_type": "markdown",
   "id": "99988868-a87f-4f16-b7ea-124b59e4260f",
   "metadata": {},
   "source": [
    "## 1 · Exchange the authorization code for a token\n",
    "\n",
    "This writes a li_token.json containing:\n",
    "\n",
    "json\n",
    "Copier\n",
    "Modifier\n",
    "{\n",
    "  \"access_token\": \"AQX…\",\n",
    "  \"expires_in\": 5183999,\n",
    "  \"expires_at\": 174XXX…,\n",
    "  \"refresh_token\": \"AQX…\"\n",
    "}"
   ]
  },
  {
   "cell_type": "code",
   "execution_count": 13,
   "id": "f68d9215-5819-4ed2-a566-41367523f04b",
   "metadata": {},
   "outputs": [
    {
     "name": "stdout",
     "output_type": "stream",
     "text": [
      "✅ Access token acquired. Expires in 5183999 seconds.\n"
     ]
    }
   ],
   "source": [
    "import os, requests, json, time\n",
    "\n",
    "# 1. Paste your code here\n",
    "CODE = \"AQQCmT6PKMV1_sDJigjf_76QnllegbgTOOlfw8kDwKcMGTsg-qyQqyXBN4UF2EsLvb8nRbSP-qeas9MShpY0bBZrWB6QjDaZVsCLKYlTnyoM1Nsa5dWRrWYRRvE4eMOQHn1pg12dv0gHJuAEuIJ2LtYw-xBTZLg8RVwE2AtTIBrhd3Vp0Dtc5jtS7wefeMOBfc9xqJo7fyurOwvYiPM\"\n",
    "\n",
    "CLIENT_ID     = \"7802i9o56cekpv\"\n",
    "CLIENT_SECRET = \"WPL_AP1.1yum4cW9ZKjzQLSv.zftBJA==\"\n",
    "REDIRECT_URI  = \"http://localhost:8080/callback\"\n",
    "\n",
    "resp = requests.post(\n",
    "    \"https://www.linkedin.com/oauth/v2/accessToken\",\n",
    "    data={\n",
    "        \"grant_type\":    \"authorization_code\",\n",
    "        \"code\":          CODE,\n",
    "        \"redirect_uri\":  REDIRECT_URI,\n",
    "        \"client_id\":     CLIENT_ID,\n",
    "        \"client_secret\": CLIENT_SECRET,\n",
    "    }\n",
    ").json()\n",
    "\n",
    "# Calculate an absolute expiry timestamp\n",
    "resp[\"expires_at\"] = time.time() + resp[\"expires_in\"] - 30\n",
    "\n",
    "# Save to file\n",
    "with open(\"li_token.json\",\"w\") as f:\n",
    "    json.dump(resp, f, indent=2)\n",
    "\n",
    "print(\"✅ Access token acquired. Expires in\", resp[\"expires_in\"], \"seconds.\")\n"
   ]
  },
  {
   "cell_type": "markdown",
   "id": "53d5f413-4baa-40b8-bf5c-c923f905f95a",
   "metadata": {},
   "source": [
    "## 2 · Write a helper to load or refresh the token\n",
    "Add this function to your script so future runs auto-refresh:"
   ]
  },
  {
   "cell_type": "code",
   "execution_count": 7,
   "id": "cca815a4-adea-4e9d-b2f3-73f932338262",
   "metadata": {},
   "outputs": [],
   "source": [
    "def get_token():\n",
    "    data = json.load(open(\"li_token.json\"))\n",
    "    if time.time() < data[\"expires_at\"]:\n",
    "        return data[\"access_token\"]\n",
    "    # need to refresh\n",
    "    refresh_resp = requests.post(\n",
    "        \"https://www.linkedin.com/oauth/v2/accessToken\",\n",
    "        data={\n",
    "            \"grant_type\":    \"refresh_token\",\n",
    "            \"refresh_token\": data[\"refresh_token\"],\n",
    "            \"client_id\":     CLIENT_ID,\n",
    "            \"client_secret\": CLIENT_SECRET,\n",
    "        }\n",
    "    ).json()\n",
    "    # carry forward the same refresh token (LinkedIn returns it only once)\n",
    "    refresh_resp[\"refresh_token\"] = data[\"refresh_token\"]\n",
    "    refresh_resp[\"expires_at\"]  = time.time() + refresh_resp[\"expires_in\"] - 30\n",
    "    json.dump(refresh_resp, open(\"li_token.json\",\"w\"), indent=2)\n",
    "    return refresh_resp[\"access_token\"]\n"
   ]
  },
  {
   "cell_type": "markdown",
   "id": "91f8fc18-2ac1-4ee4-9153-48f982bb19a4",
   "metadata": {},
   "source": [
    "## 3 · Test the Company Followers endpoint\n",
    "Now that you have a valid token, run:"
   ]
  },
  {
   "cell_type": "code",
   "execution_count": 14,
   "id": "4e1c9f52-066b-41ff-a632-f0cdc8a6963a",
   "metadata": {},
   "outputs": [
    {
     "name": "stdout",
     "output_type": "stream",
     "text": [
      "{'paging': {'start': 0, 'count': 10, 'links': [], 'total': 1}, 'elements': [{'vanityName': 'airvision', 'localizedName': 'AirVision', 'name': {'localized': {'en_US': 'AirVision'}, 'preferredLocale': {'country': 'US', 'language': 'en'}}, 'primaryOrganizationType': 'NONE', 'locations': [{'locationType': 'HEADQUARTERS', 'address': {'country': 'IL', 'postalCode': '96943'}, 'staffCountRange': 'SIZE_1', 'geoLocation': 'urn:li:geo:101620260'}], 'id': 921718, 'localizedWebsite': 'http://www.airvision.co.il', 'logoV2': {'cropped': 'urn:li:digitalmediaAsset:C560BAQF8owrGvfHh9w', 'original': 'urn:li:digitalmediaAsset:C560BAQF8owrGvfHh9w', 'cropInfo': {'x': 0, 'width': 0, 'y': 0, 'height': 0}}}]}\n",
      "Organization URN: urn:li:organization:921718\n"
     ]
    }
   ],
   "source": [
    "# Get company's URN (Uniform Resource Name)\n",
    "import urllib.parse\n",
    "\n",
    "token   = get_token()\n",
    "headers = {\"Authorization\": f\"Bearer {token}\"}\n",
    "vanity  = \"airvision\"  # part of your page URL: https://www.linkedin.com/company/airvision/\n",
    "resp    = requests.get(\n",
    "    \"https://api.linkedin.com/v2/organizations\"\n",
    "    f\"?q=vanityName&vanityName={urllib.parse.quote(vanity)}\",\n",
    "    headers=headers\n",
    ").json()\n",
    "\n",
    "print(resp)  # inspect the JSON\n",
    "org_id = resp[\"elements\"][0][\"id\"]\n",
    "ORG_URN = f\"urn:li:organization:{org_id}\"\n",
    "print(\"Organization URN:\", ORG_URN)\n"
   ]
  },
  {
   "cell_type": "code",
   "execution_count": 10,
   "id": "d4a650f0-96fc-48bf-b3ce-f2a564aa18e3",
   "metadata": {},
   "outputs": [
    {
     "ename": "KeyError",
     "evalue": "'elements'",
     "output_type": "error",
     "traceback": [
      "\u001b[0;31m---------------------------------------------------------------------------\u001b[0m",
      "\u001b[0;31mKeyError\u001b[0m                                  Traceback (most recent call last)",
      "Cell \u001b[0;32mIn[10], line 14\u001b[0m\n\u001b[1;32m      7\u001b[0m url \u001b[38;5;241m=\u001b[39m (\n\u001b[1;32m      8\u001b[0m     \u001b[38;5;124m\"\u001b[39m\u001b[38;5;124mhttps://api.linkedin.com/v2/organizationalEntityFollowerStatistics\u001b[39m\u001b[38;5;124m\"\u001b[39m\n\u001b[1;32m      9\u001b[0m     \u001b[38;5;124m\"\u001b[39m\u001b[38;5;124m?q=organizationalEntity\u001b[39m\u001b[38;5;124m\"\u001b[39m\n\u001b[1;32m     10\u001b[0m     \u001b[38;5;124m\"\u001b[39m\u001b[38;5;124m&organizationalEntity=\u001b[39m\u001b[38;5;124m\"\u001b[39m \u001b[38;5;241m+\u001b[39m urllib\u001b[38;5;241m.\u001b[39mparse\u001b[38;5;241m.\u001b[39mquote(ORG_URN)\n\u001b[1;32m     11\u001b[0m )\n\u001b[1;32m     13\u001b[0m resp \u001b[38;5;241m=\u001b[39m requests\u001b[38;5;241m.\u001b[39mget(url, headers\u001b[38;5;241m=\u001b[39mheaders)\u001b[38;5;241m.\u001b[39mjson()\n\u001b[0;32m---> 14\u001b[0m total_followers \u001b[38;5;241m=\u001b[39m resp[\u001b[38;5;124m\"\u001b[39m\u001b[38;5;124melements\u001b[39m\u001b[38;5;124m\"\u001b[39m][\u001b[38;5;241m0\u001b[39m][\u001b[38;5;124m\"\u001b[39m\u001b[38;5;124mfollowerCounts\u001b[39m\u001b[38;5;124m\"\u001b[39m][\u001b[38;5;124m\"\u001b[39m\u001b[38;5;124morganicFollowerCount\u001b[39m\u001b[38;5;124m\"\u001b[39m]\n\u001b[1;32m     15\u001b[0m \u001b[38;5;28mprint\u001b[39m(\u001b[38;5;124m\"\u001b[39m\u001b[38;5;124mAirVision page followers:\u001b[39m\u001b[38;5;124m\"\u001b[39m, total_followers)\n",
      "\u001b[0;31mKeyError\u001b[0m: 'elements'"
     ]
    }
   ],
   "source": [
    "import urllib.parse\n",
    "\n",
    "ORG_URN = \"urn:li:organization:921718\"  # replace with your actual org URN\n",
    "token   = get_token()\n",
    "headers = {\"Authorization\": f\"Bearer {token}\"}\n",
    "\n",
    "url = (\n",
    "    \"https://api.linkedin.com/v2/organizationalEntityFollowerStatistics\"\n",
    "    \"?q=organizationalEntity\"\n",
    "    \"&organizationalEntity=\" + urllib.parse.quote(ORG_URN)\n",
    ")\n",
    "\n",
    "resp = requests.get(url, headers=headers).json()\n",
    "total_followers = resp[\"elements\"][0][\"followerCounts\"][\"organicFollowerCount\"]\n",
    "print(\"AirVision page followers:\", total_followers)\n"
   ]
  },
  {
   "cell_type": "code",
   "execution_count": 9,
   "id": "99ed05ea-6b63-475b-bbb9-91f2673f1a9f",
   "metadata": {},
   "outputs": [
    {
     "name": "stdout",
     "output_type": "stream",
     "text": [
      "Status code: 403\n",
      "Raw response:\n",
      "{\"status\":403,\"serviceErrorCode\":100,\"code\":\"ACCESS_DENIED\",\"message\":\"Not enough permissions to access: organizationalEntityFollowerStatistics.FINDER-organizationalEntity.NO_VERSION\"}\n"
     ]
    }
   ],
   "source": [
    "import urllib.parse\n",
    "\n",
    "ORG_URN = \"urn:li:organization:921718\"\n",
    "token   = get_token()\n",
    "headers = {\"Authorization\": f\"Bearer {token}\"}\n",
    "\n",
    "url = (\n",
    "    \"https://api.linkedin.com/v2/organizationalEntityFollowerStatistics\"\n",
    "    \"?q=organizationalEntity\"\n",
    "    \"&organizationalEntity=\" + urllib.parse.quote(ORG_URN)\n",
    ")\n",
    "\n",
    "# Make the request and print out everything\n",
    "response = requests.get(url, headers=headers)\n",
    "print(\"Status code:\", response.status_code)\n",
    "print(\"Raw response:\")\n",
    "print(response.text)\n"
   ]
  },
  {
   "cell_type": "code",
   "execution_count": 11,
   "id": "1ef07145-dce9-4a4c-9f7d-4076cd63fe70",
   "metadata": {},
   "outputs": [
    {
     "name": "stdout",
     "output_type": "stream",
     "text": [
      "426 {\"status\":426,\"code\":\"NONEXISTENT_VERSION\",\"message\":\"Requested version 20240501 is not active\"}\n"
     ]
    }
   ],
   "source": [
    "import requests, urllib.parse\n",
    "\n",
    "ORG_URN = \"urn:li:organization:921718\"  # make sure this is YOUR page\n",
    "token   = get_token()                   # your helper that loads the new token\n",
    "\n",
    "headers = {\n",
    "    \"Authorization\": f\"Bearer {token}\",\n",
    "    \"LinkedIn-Version\": \"202405\",\n",
    "    \"X-Restli-Protocol-Version\": \"2.0.0\",\n",
    "}\n",
    "\n",
    "url = (\n",
    "    \"https://api.linkedin.com/rest/organizationalEntityFollowerStatistics\"\n",
    "    \"?q=organizationalEntity\"\n",
    "    f\"&organizationalEntity={urllib.parse.quote(ORG_URN)}\"\n",
    ")\n",
    "\n",
    "resp = requests.get(url, headers=headers)\n",
    "print(resp.status_code, resp.text)      # 200 + JSON when access is approved\n"
   ]
  },
  {
   "cell_type": "code",
   "execution_count": null,
   "id": "3c11ea7a-56b1-464a-805d-ea9832f05f39",
   "metadata": {},
   "outputs": [],
   "source": []
  }
 ],
 "metadata": {
  "kernelspec": {
   "display_name": "Python 3 (ipykernel)",
   "language": "python",
   "name": "python3"
  },
  "language_info": {
   "codemirror_mode": {
    "name": "ipython",
    "version": 3
   },
   "file_extension": ".py",
   "mimetype": "text/x-python",
   "name": "python",
   "nbconvert_exporter": "python",
   "pygments_lexer": "ipython3",
   "version": "3.12.10"
  }
 },
 "nbformat": 4,
 "nbformat_minor": 5
}
